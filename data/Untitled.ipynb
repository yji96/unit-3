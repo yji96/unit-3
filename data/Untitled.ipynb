{
 "cells": [
  {
   "cell_type": "code",
   "execution_count": 1,
   "id": "ac672feb",
   "metadata": {},
   "outputs": [],
   "source": [
    "import pandas as pd\n",
    "import numpy as np\n",
    "import geopandas as gpd"
   ]
  },
  {
   "cell_type": "code",
   "execution_count": 2,
   "id": "a934408c",
   "metadata": {},
   "outputs": [
    {
     "data": {
      "text/html": [
       "<div>\n",
       "<style scoped>\n",
       "    .dataframe tbody tr th:only-of-type {\n",
       "        vertical-align: middle;\n",
       "    }\n",
       "\n",
       "    .dataframe tbody tr th {\n",
       "        vertical-align: top;\n",
       "    }\n",
       "\n",
       "    .dataframe thead th {\n",
       "        text-align: right;\n",
       "    }\n",
       "</style>\n",
       "<table border=\"1\" class=\"dataframe\">\n",
       "  <thead>\n",
       "    <tr style=\"text-align: right;\">\n",
       "      <th></th>\n",
       "      <th>country</th>\n",
       "      <th>geometry</th>\n",
       "    </tr>\n",
       "  </thead>\n",
       "  <tbody>\n",
       "    <tr>\n",
       "      <th>0</th>\n",
       "      <td>Zimbabwe</td>\n",
       "      <td>POLYGON ((31.28789 -22.40205, 31.19727 -22.344...</td>\n",
       "    </tr>\n",
       "    <tr>\n",
       "      <th>1</th>\n",
       "      <td>Zambia</td>\n",
       "      <td>POLYGON ((30.39609 -15.64307, 30.25068 -15.643...</td>\n",
       "    </tr>\n",
       "    <tr>\n",
       "      <th>2</th>\n",
       "      <td>Yemen</td>\n",
       "      <td>MULTIPOLYGON (((53.08564 16.64839, 52.58145 16...</td>\n",
       "    </tr>\n",
       "    <tr>\n",
       "      <th>3</th>\n",
       "      <td>Vietnam</td>\n",
       "      <td>MULTIPOLYGON (((104.06396 10.39082, 104.08301 ...</td>\n",
       "    </tr>\n",
       "    <tr>\n",
       "      <th>4</th>\n",
       "      <td>Venezuela</td>\n",
       "      <td>MULTIPOLYGON (((-60.82119 9.13838, -60.94141 9...</td>\n",
       "    </tr>\n",
       "  </tbody>\n",
       "</table>\n",
       "</div>"
      ],
      "text/plain": [
       "     country                                           geometry\n",
       "0   Zimbabwe  POLYGON ((31.28789 -22.40205, 31.19727 -22.344...\n",
       "1     Zambia  POLYGON ((30.39609 -15.64307, 30.25068 -15.643...\n",
       "2      Yemen  MULTIPOLYGON (((53.08564 16.64839, 52.58145 16...\n",
       "3    Vietnam  MULTIPOLYGON (((104.06396 10.39082, 104.08301 ...\n",
       "4  Venezuela  MULTIPOLYGON (((-60.82119 9.13838, -60.94141 9..."
      ]
     },
     "execution_count": 2,
     "metadata": {},
     "output_type": "execute_result"
    }
   ],
   "source": [
    "world = gpd.read_file('ne_50m_admin_0_countries/ne_50m_admin_0_countries.shp')\n",
    "world = world[['SOVEREIGNT', 'geometry']].rename(columns={'SOVEREIGNT': 'country'})\n",
    "world.head()"
   ]
  },
  {
   "cell_type": "code",
   "execution_count": 3,
   "id": "c841b1a0",
   "metadata": {},
   "outputs": [
    {
     "data": {
      "text/html": [
       "<div>\n",
       "<style scoped>\n",
       "    .dataframe tbody tr th:only-of-type {\n",
       "        vertical-align: middle;\n",
       "    }\n",
       "\n",
       "    .dataframe tbody tr th {\n",
       "        vertical-align: top;\n",
       "    }\n",
       "\n",
       "    .dataframe thead th {\n",
       "        text-align: right;\n",
       "    }\n",
       "</style>\n",
       "<table border=\"1\" class=\"dataframe\">\n",
       "  <thead>\n",
       "    <tr style=\"text-align: right;\">\n",
       "      <th></th>\n",
       "      <th>country</th>\n",
       "      <th>region</th>\n",
       "      <th>happiness</th>\n",
       "      <th>logged_ppp</th>\n",
       "      <th>social_spt</th>\n",
       "      <th>life_exp</th>\n",
       "      <th>choice</th>\n",
       "      <th>generous</th>\n",
       "      <th>corruption</th>\n",
       "      <th>lon</th>\n",
       "      <th>lat</th>\n",
       "    </tr>\n",
       "  </thead>\n",
       "  <tbody>\n",
       "    <tr>\n",
       "      <th>0</th>\n",
       "      <td>Afghanistan</td>\n",
       "      <td>South Asia</td>\n",
       "      <td>2.523</td>\n",
       "      <td>7.695</td>\n",
       "      <td>0.463</td>\n",
       "      <td>52.493</td>\n",
       "      <td>0.382</td>\n",
       "      <td>-0.102</td>\n",
       "      <td>0.924</td>\n",
       "      <td>34.159326</td>\n",
       "      <td>66.515510</td>\n",
       "    </tr>\n",
       "    <tr>\n",
       "      <th>1</th>\n",
       "      <td>Albania</td>\n",
       "      <td>Central and Eastern Europe</td>\n",
       "      <td>5.117</td>\n",
       "      <td>9.520</td>\n",
       "      <td>0.697</td>\n",
       "      <td>68.999</td>\n",
       "      <td>0.785</td>\n",
       "      <td>-0.030</td>\n",
       "      <td>0.901</td>\n",
       "      <td>40.647186</td>\n",
       "      <td>20.127352</td>\n",
       "    </tr>\n",
       "    <tr>\n",
       "      <th>2</th>\n",
       "      <td>Algeria</td>\n",
       "      <td>Middle East and North Africa</td>\n",
       "      <td>4.887</td>\n",
       "      <td>9.342</td>\n",
       "      <td>0.802</td>\n",
       "      <td>66.005</td>\n",
       "      <td>0.480</td>\n",
       "      <td>-0.067</td>\n",
       "      <td>0.752</td>\n",
       "      <td>27.896890</td>\n",
       "      <td>3.379277</td>\n",
       "    </tr>\n",
       "    <tr>\n",
       "      <th>3</th>\n",
       "      <td>Argentina</td>\n",
       "      <td>Latin America and Caribbean</td>\n",
       "      <td>5.929</td>\n",
       "      <td>9.962</td>\n",
       "      <td>0.898</td>\n",
       "      <td>69.000</td>\n",
       "      <td>0.828</td>\n",
       "      <td>-0.182</td>\n",
       "      <td>0.834</td>\n",
       "      <td>-33.528049</td>\n",
       "      <td>-64.168459</td>\n",
       "    </tr>\n",
       "    <tr>\n",
       "      <th>4</th>\n",
       "      <td>Armenia</td>\n",
       "      <td>Commonwealth of Independent States</td>\n",
       "      <td>5.283</td>\n",
       "      <td>9.487</td>\n",
       "      <td>0.799</td>\n",
       "      <td>67.055</td>\n",
       "      <td>0.825</td>\n",
       "      <td>-0.168</td>\n",
       "      <td>0.629</td>\n",
       "      <td>40.474724</td>\n",
       "      <td>44.805610</td>\n",
       "    </tr>\n",
       "  </tbody>\n",
       "</table>\n",
       "</div>"
      ],
      "text/plain": [
       "       country                              region  happiness  logged_ppp  \\\n",
       "0  Afghanistan                          South Asia      2.523       7.695   \n",
       "1      Albania          Central and Eastern Europe      5.117       9.520   \n",
       "2      Algeria        Middle East and North Africa      4.887       9.342   \n",
       "3    Argentina         Latin America and Caribbean      5.929       9.962   \n",
       "4      Armenia  Commonwealth of Independent States      5.283       9.487   \n",
       "\n",
       "   social_spt  life_exp  choice  generous  corruption        lon        lat  \n",
       "0       0.463    52.493   0.382    -0.102       0.924  34.159326  66.515510  \n",
       "1       0.697    68.999   0.785    -0.030       0.901  40.647186  20.127352  \n",
       "2       0.802    66.005   0.480    -0.067       0.752  27.896890   3.379277  \n",
       "3       0.898    69.000   0.828    -0.182       0.834 -33.528049 -64.168459  \n",
       "4       0.799    67.055   0.825    -0.168       0.629  40.474724  44.805610  "
      ]
     },
     "execution_count": 3,
     "metadata": {},
     "output_type": "execute_result"
    }
   ],
   "source": [
    "data = pd.read_csv('happiness.csv')\n",
    "data.columns=['country', 'region', 'happiness', 'logged_ppp', 'social_spt', 'life_exp', 'choice', 'generous', 'corruption', 'lon', 'lat']\n",
    "data.head()"
   ]
  },
  {
   "cell_type": "code",
   "execution_count": 4,
   "id": "ba6c1afa",
   "metadata": {},
   "outputs": [
    {
     "data": {
      "text/html": [
       "<div>\n",
       "<style scoped>\n",
       "    .dataframe tbody tr th:only-of-type {\n",
       "        vertical-align: middle;\n",
       "    }\n",
       "\n",
       "    .dataframe tbody tr th {\n",
       "        vertical-align: top;\n",
       "    }\n",
       "\n",
       "    .dataframe thead th {\n",
       "        text-align: right;\n",
       "    }\n",
       "</style>\n",
       "<table border=\"1\" class=\"dataframe\">\n",
       "  <thead>\n",
       "    <tr style=\"text-align: right;\">\n",
       "      <th></th>\n",
       "      <th>country</th>\n",
       "      <th>geometry</th>\n",
       "      <th>region</th>\n",
       "      <th>happiness</th>\n",
       "      <th>logged_ppp</th>\n",
       "      <th>social_spt</th>\n",
       "      <th>life_exp</th>\n",
       "      <th>choice</th>\n",
       "      <th>generous</th>\n",
       "      <th>corruption</th>\n",
       "      <th>lon</th>\n",
       "      <th>lat</th>\n",
       "    </tr>\n",
       "  </thead>\n",
       "  <tbody>\n",
       "    <tr>\n",
       "      <th>0</th>\n",
       "      <td>Zimbabwe</td>\n",
       "      <td>POLYGON ((31.28789 -22.40205, 31.19727 -22.344...</td>\n",
       "      <td>Sub-Saharan Africa</td>\n",
       "      <td>3.145</td>\n",
       "      <td>7.943</td>\n",
       "      <td>0.750</td>\n",
       "      <td>56.201</td>\n",
       "      <td>0.677</td>\n",
       "      <td>-0.047</td>\n",
       "      <td>0.821</td>\n",
       "      <td>-18.919508</td>\n",
       "      <td>29.946601</td>\n",
       "    </tr>\n",
       "    <tr>\n",
       "      <th>1</th>\n",
       "      <td>Zambia</td>\n",
       "      <td>POLYGON ((30.39609 -15.64307, 30.25068 -15.643...</td>\n",
       "      <td>Sub-Saharan Africa</td>\n",
       "      <td>4.073</td>\n",
       "      <td>8.145</td>\n",
       "      <td>0.708</td>\n",
       "      <td>55.809</td>\n",
       "      <td>0.782</td>\n",
       "      <td>0.061</td>\n",
       "      <td>0.823</td>\n",
       "      <td>-14.936526</td>\n",
       "      <td>25.940824</td>\n",
       "    </tr>\n",
       "    <tr>\n",
       "      <th>2</th>\n",
       "      <td>Yemen</td>\n",
       "      <td>MULTIPOLYGON (((53.08564 16.64839, 52.58145 16...</td>\n",
       "      <td>Middle East and North Africa</td>\n",
       "      <td>3.658</td>\n",
       "      <td>7.578</td>\n",
       "      <td>0.832</td>\n",
       "      <td>57.122</td>\n",
       "      <td>0.602</td>\n",
       "      <td>-0.147</td>\n",
       "      <td>0.800</td>\n",
       "      <td>15.328226</td>\n",
       "      <td>45.874382</td>\n",
       "    </tr>\n",
       "    <tr>\n",
       "      <th>3</th>\n",
       "      <td>Vietnam</td>\n",
       "      <td>MULTIPOLYGON (((104.06396 10.39082, 104.08301 ...</td>\n",
       "      <td>Southeast Asia</td>\n",
       "      <td>5.411</td>\n",
       "      <td>8.973</td>\n",
       "      <td>0.850</td>\n",
       "      <td>68.034</td>\n",
       "      <td>0.940</td>\n",
       "      <td>-0.098</td>\n",
       "      <td>0.796</td>\n",
       "      <td>21.732568</td>\n",
       "      <td>105.396672</td>\n",
       "    </tr>\n",
       "    <tr>\n",
       "      <th>4</th>\n",
       "      <td>Venezuela</td>\n",
       "      <td>MULTIPOLYGON (((-60.82119 9.13838, -60.94141 9...</td>\n",
       "      <td>Latin America and Caribbean</td>\n",
       "      <td>4.892</td>\n",
       "      <td>9.073</td>\n",
       "      <td>0.861</td>\n",
       "      <td>66.700</td>\n",
       "      <td>0.615</td>\n",
       "      <td>-0.169</td>\n",
       "      <td>0.827</td>\n",
       "      <td>7.186460</td>\n",
       "      <td>-64.568705</td>\n",
       "    </tr>\n",
       "  </tbody>\n",
       "</table>\n",
       "</div>"
      ],
      "text/plain": [
       "     country                                           geometry  \\\n",
       "0   Zimbabwe  POLYGON ((31.28789 -22.40205, 31.19727 -22.344...   \n",
       "1     Zambia  POLYGON ((30.39609 -15.64307, 30.25068 -15.643...   \n",
       "2      Yemen  MULTIPOLYGON (((53.08564 16.64839, 52.58145 16...   \n",
       "3    Vietnam  MULTIPOLYGON (((104.06396 10.39082, 104.08301 ...   \n",
       "4  Venezuela  MULTIPOLYGON (((-60.82119 9.13838, -60.94141 9...   \n",
       "\n",
       "                         region  happiness  logged_ppp  social_spt  life_exp  \\\n",
       "0            Sub-Saharan Africa      3.145       7.943       0.750    56.201   \n",
       "1            Sub-Saharan Africa      4.073       8.145       0.708    55.809   \n",
       "2  Middle East and North Africa      3.658       7.578       0.832    57.122   \n",
       "3                Southeast Asia      5.411       8.973       0.850    68.034   \n",
       "4   Latin America and Caribbean      4.892       9.073       0.861    66.700   \n",
       "\n",
       "   choice  generous  corruption        lon         lat  \n",
       "0   0.677    -0.047       0.821 -18.919508   29.946601  \n",
       "1   0.782     0.061       0.823 -14.936526   25.940824  \n",
       "2   0.602    -0.147       0.800  15.328226   45.874382  \n",
       "3   0.940    -0.098       0.796  21.732568  105.396672  \n",
       "4   0.615    -0.169       0.827   7.186460  -64.568705  "
      ]
     },
     "execution_count": 4,
     "metadata": {},
     "output_type": "execute_result"
    }
   ],
   "source": [
    "world = pd.merge(world.rename(columns={'CNTRY_NAME': 'country'}), data, on='country', how='inner')\n",
    "world.head()"
   ]
  },
  {
   "cell_type": "code",
   "execution_count": 9,
   "id": "a0ad375d",
   "metadata": {},
   "outputs": [
    {
     "data": {
      "text/plain": [
       "geopandas.geodataframe.GeoDataFrame"
      ]
     },
     "execution_count": 9,
     "metadata": {},
     "output_type": "execute_result"
    }
   ],
   "source": [
    "type(world)"
   ]
  },
  {
   "cell_type": "code",
   "execution_count": 5,
   "id": "e75aa321",
   "metadata": {},
   "outputs": [
    {
     "data": {
      "text/plain": [
       "set()"
      ]
     },
     "execution_count": 5,
     "metadata": {},
     "output_type": "execute_result"
    }
   ],
   "source": [
    "set(data['country']) - set(world['country'])"
   ]
  },
  {
   "cell_type": "code",
   "execution_count": 6,
   "id": "0908bca1",
   "metadata": {},
   "outputs": [
    {
     "data": {
      "text/html": [
       "<div>\n",
       "<style scoped>\n",
       "    .dataframe tbody tr th:only-of-type {\n",
       "        vertical-align: middle;\n",
       "    }\n",
       "\n",
       "    .dataframe tbody tr th {\n",
       "        vertical-align: top;\n",
       "    }\n",
       "\n",
       "    .dataframe thead th {\n",
       "        text-align: right;\n",
       "    }\n",
       "</style>\n",
       "<table border=\"1\" class=\"dataframe\">\n",
       "  <thead>\n",
       "    <tr style=\"text-align: right;\">\n",
       "      <th></th>\n",
       "      <th>country</th>\n",
       "      <th>geometry</th>\n",
       "      <th>region</th>\n",
       "      <th>happiness</th>\n",
       "      <th>logged_ppp</th>\n",
       "      <th>social_spt</th>\n",
       "      <th>life_exp</th>\n",
       "      <th>choice</th>\n",
       "      <th>generous</th>\n",
       "      <th>corruption</th>\n",
       "      <th>lon</th>\n",
       "      <th>lat</th>\n",
       "    </tr>\n",
       "  </thead>\n",
       "  <tbody>\n",
       "  </tbody>\n",
       "</table>\n",
       "</div>"
      ],
      "text/plain": [
       "Empty GeoDataFrame\n",
       "Columns: [country, geometry, region, happiness, logged_ppp, social_spt, life_exp, choice, generous, corruption, lon, lat]\n",
       "Index: []"
      ]
     },
     "execution_count": 6,
     "metadata": {},
     "output_type": "execute_result"
    }
   ],
   "source": [
    "world[world['country'].str.contains('Pale')]"
   ]
  },
  {
   "cell_type": "code",
   "execution_count": 7,
   "id": "b03f6aba",
   "metadata": {},
   "outputs": [
    {
     "data": {
      "text/plain": [
       "187"
      ]
     },
     "execution_count": 7,
     "metadata": {},
     "output_type": "execute_result"
    }
   ],
   "source": [
    "world[~pd.isnull(world['happiness'])].shape[0]"
   ]
  },
  {
   "cell_type": "code",
   "execution_count": null,
   "id": "4c562578",
   "metadata": {},
   "outputs": [],
   "source": [
    "world.head"
   ]
  },
  {
   "cell_type": "code",
   "execution_count": 8,
   "id": "a8c4d7a9",
   "metadata": {},
   "outputs": [],
   "source": [
    "world.to_file('country')"
   ]
  },
  {
   "cell_type": "code",
   "execution_count": null,
   "id": "da653adb",
   "metadata": {},
   "outputs": [],
   "source": [
    "world.to_dict"
   ]
  }
 ],
 "metadata": {
  "kernelspec": {
   "display_name": "Python 3",
   "language": "python",
   "name": "python3"
  },
  "language_info": {
   "codemirror_mode": {
    "name": "ipython",
    "version": 3
   },
   "file_extension": ".py",
   "mimetype": "text/x-python",
   "name": "python",
   "nbconvert_exporter": "python",
   "pygments_lexer": "ipython3",
   "version": "3.7.0b2"
  }
 },
 "nbformat": 4,
 "nbformat_minor": 5
}
